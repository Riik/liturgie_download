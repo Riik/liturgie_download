{
 "cells": [
  {
   "cell_type": "code",
   "execution_count": 16,
   "id": "61d0806b",
   "metadata": {},
   "outputs": [
    {
     "name": "stdout",
     "output_type": "stream",
     "text": [
      "The autoreload extension is already loaded. To reload it, use:\n",
      "  %reload_ext autoreload\n"
     ]
    }
   ],
   "source": [
    "%load_ext autoreload \n",
    "%autoreload 2"
   ]
  },
  {
   "cell_type": "code",
   "execution_count": 47,
   "id": "d828331a-50ad-4307-81d0-891cffadb79b",
   "metadata": {},
   "outputs": [],
   "source": [
    "import pandas as pd\n",
    "import json\n",
    "from liturgy.scraper import scrape_liturgies, scrape_message_ids, read_cookie\n",
    "from liturgy.preprocessor import preprocess\n",
    "from liturgy.ai_parser import query_ai\n"
   ]
  },
  {
   "cell_type": "code",
   "execution_count": 66,
   "id": "99bd1325",
   "metadata": {},
   "outputs": [],
   "source": [
    "RERUN_GET_MSG_IDS = False\n",
    "RERUN_SCRAPE = False\n",
    "RERUN_AI = True"
   ]
  },
  {
   "cell_type": "code",
   "execution_count": 49,
   "id": "6ba2994a",
   "metadata": {},
   "outputs": [],
   "source": [
    "\n",
    "auth_cookie = read_cookie()\n",
    "if RERUN_GET_MSG_IDS:\n",
    "    scrape_message_ids(auth_cookie)\n",
    "if RERUN_SCRAPE:\n",
    "    scrape_liturgies(auth_cookie)"
   ]
  },
  {
   "cell_type": "code",
   "execution_count": 50,
   "id": "cbca0205",
   "metadata": {},
   "outputs": [
    {
     "name": "stdout",
     "output_type": "stream",
     "text": [
      "Parsing 154 files\n"
     ]
    }
   ],
   "source": [
    "preprocess()"
   ]
  },
  {
   "cell_type": "code",
   "execution_count": 51,
   "id": "4c35df96",
   "metadata": {},
   "outputs": [],
   "source": [
    "df = pd.read_json(\"./data/output/zangdiensten.json\")"
   ]
  },
  {
   "cell_type": "code",
   "execution_count": 52,
   "id": "658c8013",
   "metadata": {},
   "outputs": [
    {
     "name": "stdout",
     "output_type": "stream",
     "text": [
      "Dienst with many semicolons found\n"
     ]
    },
    {
     "data": {
      "text/html": [
       "<div>\n",
       "<style scoped>\n",
       "    .dataframe tbody tr th:only-of-type {\n",
       "        vertical-align: middle;\n",
       "    }\n",
       "\n",
       "    .dataframe tbody tr th {\n",
       "        vertical-align: top;\n",
       "    }\n",
       "\n",
       "    .dataframe thead th {\n",
       "        text-align: right;\n",
       "    }\n",
       "</style>\n",
       "<table border=\"1\" class=\"dataframe\">\n",
       "  <thead>\n",
       "    <tr style=\"text-align: right;\">\n",
       "      <th></th>\n",
       "      <th>date</th>\n",
       "      <th>liturgy</th>\n",
       "      <th>file</th>\n",
       "      <th>full_content</th>\n",
       "      <th>songs_regex</th>\n",
       "    </tr>\n",
       "  </thead>\n",
       "  <tbody>\n",
       "    <tr>\n",
       "      <th>0</th>\n",
       "      <td>2024-09-01</td>\n",
       "      <td>Even stil worden aan het begin van de dienst: ...</td>\n",
       "      <td>./data//raw/service_268190.html</td>\n",
       "      <td>Ruth (II): Pay-it-forward van genade: iets doe...</td>\n",
       "      <td>[lied: 'samen in de naam van jezus', luisterli...</td>\n",
       "    </tr>\n",
       "    <tr>\n",
       "      <th>1</th>\n",
       "      <td>2024-12-08</td>\n",
       "      <td>We beginnen met het 'Kaarsenlied' en het aanst...</td>\n",
       "      <td>./data//raw/service_358214.html</td>\n",
       "      <td>Van trots naar nederig\\nDe kerkdienst wordt ge...</td>\n",
       "      <td>[we beginnen met het 'kaarsenlied' en het aans...</td>\n",
       "    </tr>\n",
       "    <tr>\n",
       "      <th>2</th>\n",
       "      <td>2024-01-07</td>\n",
       "      <td>Welkom\\n Lied: Onze hulp en onze verwachting (...</td>\n",
       "      <td>./data//raw/service_258121.html</td>\n",
       "      <td>De kerkdienst wordt gehouden in de Immanuelker...</td>\n",
       "      <td>[lied: onze hulp en onze verwachting (sela), l...</td>\n",
       "    </tr>\n",
       "    <tr>\n",
       "      <th>3</th>\n",
       "      <td>2023-12-23</td>\n",
       "      <td>Dankdienst voorafgaand aan de uitvaart van zr....</td>\n",
       "      <td>./data//raw/service_301056.html</td>\n",
       "      <td>Dankdienst voorafgaand aan de uitvaart van zr....</td>\n",
       "      <td>[]</td>\n",
       "    </tr>\n",
       "    <tr>\n",
       "      <th>4</th>\n",
       "      <td>2023-01-15</td>\n",
       "      <td>Opening van de dienst\\nOpeningspsalm: 92:1,5,6...</td>\n",
       "      <td>./data//raw/service_230296.html</td>\n",
       "      <td>Het leven van Jezus: de eerste genezingen.\\nDe...</td>\n",
       "      <td>[lied: father we love you (nlb 875), gebed voo...</td>\n",
       "    </tr>\n",
       "    <tr>\n",
       "      <th>...</th>\n",
       "      <td>...</td>\n",
       "      <td>...</td>\n",
       "      <td>...</td>\n",
       "      <td>...</td>\n",
       "      <td>...</td>\n",
       "    </tr>\n",
       "    <tr>\n",
       "      <th>149</th>\n",
       "      <td>2024-01-14</td>\n",
       "      <td>Opening van de dienst\\n Lied: \\nJuicht, want J...</td>\n",
       "      <td>./data//raw/service_258122.html</td>\n",
       "      <td>De leeuw maar ook het Lam! - Het getuigenis va...</td>\n",
       "      <td>[lied:  juicht want jezus is heer!, lied:  uw ...</td>\n",
       "    </tr>\n",
       "    <tr>\n",
       "      <th>150</th>\n",
       "      <td>2024-08-11</td>\n",
       "      <td>Votum en groet  (sela)\\n zingen:  Dit is morge...</td>\n",
       "      <td>./data//raw/service_268185.html</td>\n",
       "      <td>De kerkdienst wordt gehouden in de Immanuelker...</td>\n",
       "      <td>[zingen:  dit is morgen als eens de eerste (nl...</td>\n",
       "    </tr>\n",
       "    <tr>\n",
       "      <th>151</th>\n",
       "      <td>2023-01-08</td>\n",
       "      <td>Opening van de dienst\\nLied: Jezus, wij verhog...</td>\n",
       "      <td>./data//raw/service_230295.html</td>\n",
       "      <td>Doop van Floor van Meeuwen - Drie Koningen: de...</td>\n",
       "      <td>[lied: jezus wij verhogen u (opw. 237), lied: ...</td>\n",
       "    </tr>\n",
       "    <tr>\n",
       "      <th>152</th>\n",
       "      <td>2024-03-29</td>\n",
       "      <td>Opening van de dienst\\n Lied: Uw genade is mij...</td>\n",
       "      <td>./data//raw/service_268150.html</td>\n",
       "      <td>Met vallen en opstaan - met Petrus op weg naar...</td>\n",
       "      <td>[lied: uw genade is mij genoeg (opw. 614), lui...</td>\n",
       "    </tr>\n",
       "    <tr>\n",
       "      <th>153</th>\n",
       "      <td>2024-11-24</td>\n",
       "      <td>Gedicht\\nStiltemoment\\nWelkom &amp; Votum &amp; Groet\\...</td>\n",
       "      <td>./data//raw/service_532256.html</td>\n",
       "      <td>De mensen die we missen - \\n Eeuwigheidszondag...</td>\n",
       "      <td>[opwekking 281, opwekking 789 lopen op het wat...</td>\n",
       "    </tr>\n",
       "  </tbody>\n",
       "</table>\n",
       "<p>154 rows × 5 columns</p>\n",
       "</div>"
      ],
      "text/plain": [
       "          date                                            liturgy  \\\n",
       "0   2024-09-01  Even stil worden aan het begin van de dienst: ...   \n",
       "1   2024-12-08  We beginnen met het 'Kaarsenlied' en het aanst...   \n",
       "2   2024-01-07  Welkom\\n Lied: Onze hulp en onze verwachting (...   \n",
       "3   2023-12-23  Dankdienst voorafgaand aan de uitvaart van zr....   \n",
       "4   2023-01-15  Opening van de dienst\\nOpeningspsalm: 92:1,5,6...   \n",
       "..         ...                                                ...   \n",
       "149 2024-01-14  Opening van de dienst\\n Lied: \\nJuicht, want J...   \n",
       "150 2024-08-11  Votum en groet  (sela)\\n zingen:  Dit is morge...   \n",
       "151 2023-01-08  Opening van de dienst\\nLied: Jezus, wij verhog...   \n",
       "152 2024-03-29  Opening van de dienst\\n Lied: Uw genade is mij...   \n",
       "153 2024-11-24  Gedicht\\nStiltemoment\\nWelkom & Votum & Groet\\...   \n",
       "\n",
       "                                file  \\\n",
       "0    ./data//raw/service_268190.html   \n",
       "1    ./data//raw/service_358214.html   \n",
       "2    ./data//raw/service_258121.html   \n",
       "3    ./data//raw/service_301056.html   \n",
       "4    ./data//raw/service_230296.html   \n",
       "..                               ...   \n",
       "149  ./data//raw/service_258122.html   \n",
       "150  ./data//raw/service_268185.html   \n",
       "151  ./data//raw/service_230295.html   \n",
       "152  ./data//raw/service_268150.html   \n",
       "153  ./data//raw/service_532256.html   \n",
       "\n",
       "                                          full_content  \\\n",
       "0    Ruth (II): Pay-it-forward van genade: iets doe...   \n",
       "1    Van trots naar nederig\\nDe kerkdienst wordt ge...   \n",
       "2    De kerkdienst wordt gehouden in de Immanuelker...   \n",
       "3    Dankdienst voorafgaand aan de uitvaart van zr....   \n",
       "4    Het leven van Jezus: de eerste genezingen.\\nDe...   \n",
       "..                                                 ...   \n",
       "149  De leeuw maar ook het Lam! - Het getuigenis va...   \n",
       "150  De kerkdienst wordt gehouden in de Immanuelker...   \n",
       "151  Doop van Floor van Meeuwen - Drie Koningen: de...   \n",
       "152  Met vallen en opstaan - met Petrus op weg naar...   \n",
       "153  De mensen die we missen - \\n Eeuwigheidszondag...   \n",
       "\n",
       "                                           songs_regex  \n",
       "0    [lied: 'samen in de naam van jezus', luisterli...  \n",
       "1    [we beginnen met het 'kaarsenlied' en het aans...  \n",
       "2    [lied: onze hulp en onze verwachting (sela), l...  \n",
       "3                                                   []  \n",
       "4    [lied: father we love you (nlb 875), gebed voo...  \n",
       "..                                                 ...  \n",
       "149  [lied:  juicht want jezus is heer!, lied:  uw ...  \n",
       "150  [zingen:  dit is morgen als eens de eerste (nl...  \n",
       "151  [lied: jezus wij verhogen u (opw. 237), lied: ...  \n",
       "152  [lied: uw genade is mij genoeg (opw. 614), lui...  \n",
       "153  [opwekking 281, opwekking 789 lopen op het wat...  \n",
       "\n",
       "[154 rows x 5 columns]"
      ]
     },
     "execution_count": 52,
     "metadata": {},
     "output_type": "execute_result"
    }
   ],
   "source": [
    "from liturgy.regex_parser import Dienst\n",
    "df[\"songs_regex\"] = df.apply(lambda row:Dienst(row.liturgy, str(row.date)).liederen, axis=1)\n",
    "df"
   ]
  },
  {
   "cell_type": "code",
   "execution_count": null,
   "id": "662e58e2",
   "metadata": {},
   "outputs": [
    {
     "name": "stderr",
     "output_type": "stream",
     "text": [
      "94it [06:39,  5.52s/it]"
     ]
    }
   ],
   "source": [
    "if RERUN_AI:\n",
    "    query_ai(df)"
   ]
  },
  {
   "cell_type": "code",
   "execution_count": 69,
   "id": "99ad66f7",
   "metadata": {},
   "outputs": [],
   "source": [
    "with open(\"./data/raw/api_responses.json\", 'r') as f:\n",
    "    responses = json.loads(f.read())\n",
    "\n",
    "ai_summaries = pd.DataFrame([(key, value.split(\"\\n\")) for key, value in responses.items()], columns=[\"file\", \"songs_ai\"])\n",
    "combined = ai_summaries.merge(df)"
   ]
  },
  {
   "cell_type": "code",
   "execution_count": null,
   "id": "db5f92ce",
   "metadata": {},
   "outputs": [
    {
     "name": "stdout",
     "output_type": "stream",
     "text": [
      "regex: [\"lied: 'samen in de naam van jezus'\", \"luisterlied: 'boven alle onrust uit'\", 'psalm 105:5 (gereformeerd kerkboek)', \"lied: 'familie'\", 'slotlied: houd vol']\n",
      "AI: ['Samen in de naam van Jezus ', 'De kerk van alle tijden ', 'boven alle onrust uit ', 'Psalm 105:5 (Gereformeerd Kerkboek)', 'Familie ', 'Houd vol']\n"
     ]
    }
   ],
   "source": [
    "for _, row in combined[:15].iterrows():\n",
    "    print(f\"regex: {row.songs_regex}\")\n",
    "    print(f\"AI: {row.songs_ai}\")"
   ]
  },
  {
   "cell_type": "code",
   "execution_count": null,
   "id": "05fa842f",
   "metadata": {},
   "outputs": [],
   "source": []
  }
 ],
 "metadata": {
  "kernelspec": {
   "display_name": ".venv",
   "language": "python",
   "name": "python3"
  },
  "language_info": {
   "codemirror_mode": {
    "name": "ipython",
    "version": 3
   },
   "file_extension": ".py",
   "mimetype": "text/x-python",
   "name": "python",
   "nbconvert_exporter": "python",
   "pygments_lexer": "ipython3",
   "version": "3.10.14"
  }
 },
 "nbformat": 4,
 "nbformat_minor": 5
}
