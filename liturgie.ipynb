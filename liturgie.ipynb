{
 "cells": [
  {
   "cell_type": "code",
   "execution_count": 1,
   "id": "d828331a-50ad-4307-81d0-891cffadb79b",
   "metadata": {},
   "outputs": [],
   "source": [
    "import requests\n",
    "from bs4 import BeautifulSoup\n",
    "import glob \n",
    "from tqdm import tqdm \n",
    "import os\n",
    "from openai import OpenAI\n",
    "import glob\n",
    "import pandas as pd\n",
    "import json"
   ]
  },
  {
   "cell_type": "code",
   "execution_count": 2,
   "id": "6cd358ab-e3e9-48ab-8f7a-64945c49dcfe",
   "metadata": {},
   "outputs": [],
   "source": [
    "# get the cookie from web browser and paste it in a text file. Should look something like this: \n",
    "# kerkspot=<some characters>; ident=<some characters>; s=1\n",
    "with open(\"auth_cookie.txt\", 'r') as f:\n",
    "    auth_cookie = f.readline().strip()"
   ]
  },
  {
   "cell_type": "code",
   "execution_count": 3,
   "id": "08afc746-e612-4ee7-8e8b-b59e613cc105",
   "metadata": {},
   "outputs": [],
   "source": [
    "RERUN_SCRAPE = False\n",
    "RERUN_OPENAI = False"
   ]
  },
  {
   "cell_type": "code",
   "execution_count": 4,
   "id": "556d643f-c055-4737-a644-49f375597a7b",
   "metadata": {},
   "outputs": [],
   "source": [
    "def get_page(id):\n",
    "    url = f\"https://www.immanuelkerkdelft.nl/agenda/{id}/\"\n",
    "    headers = {'Cookie': auth_cookie}\n",
    "    return requests.request(\"GET\", url, headers=headers)"
   ]
  },
  {
   "cell_type": "code",
   "execution_count": 5,
   "id": "f3217560-b094-48a4-8b56-f75fe6b03f45",
   "metadata": {},
   "outputs": [],
   "source": [
    "# there are some gaps in the ranges of the IDs.\n",
    "# I manually searched some IDs found at https://www.immanuelkerkdelft.nl/go/gemeente/agenda/?d=4|2024&g=\n",
    "# You can change year / month in the URL, click event and then get ID from there\n",
    "ids_to_search = (\n",
    "    list(range(244491+20, 244491-20, -1))\n",
    "    # list(range(254149+20, 254149-20, -1)) +\n",
    "    # list(range(254250, 254250-30, -1)) +\n",
    "    # list(range(254250, 254250-20, -1)) +\n",
    "    # list(range(258150, 258150-50, -1)) + \n",
    "    # list(range(260500, 260500-50, -1)) + \n",
    "    # list(range(268180, 268180-50, -1))\n",
    ")\n"
   ]
  },
  {
   "cell_type": "code",
   "execution_count": 6,
   "id": "d2349468-d070-4c31-9021-cd0da5234d72",
   "metadata": {},
   "outputs": [],
   "source": [
    "if RERUN_SCRAPE:\n",
    "    found_ids = []\n",
    "    for i in tqdm(ids_to_search):\n",
    "        r = get_page(i)\n",
    "        if r.status_code == 200:\n",
    "            found_ids.append(i)\n",
    "            with open(f\"./data/{i}.html\", 'w') as o:\n",
    "                o.write(r.text)\n",
    "    \n",
    "    print(f\"Found ids: {found_ids}\")\n",
    "    print(f\"Max: {max(found_ids)}, min: {min(found_ids)}\")"
   ]
  },
  {
   "cell_type": "code",
   "execution_count": 7,
   "id": "2828fedb-89de-4a1d-8769-5fa8d2174bfd",
   "metadata": {},
   "outputs": [
    {
     "data": {
      "text/plain": [
       "59"
      ]
     },
     "execution_count": 7,
     "metadata": {},
     "output_type": "execute_result"
    }
   ],
   "source": [
    "file_list = [f for f in glob.glob(\"./data/*.html\")]\n",
    "\n",
    "len(file_list)"
   ]
  },
  {
   "cell_type": "code",
   "execution_count": 8,
   "id": "8063c747-549f-42b0-8c3f-3ed59ad2c0ab",
   "metadata": {},
   "outputs": [],
   "source": [
    "def get_content(soup):\n",
    "    text = soup.find(id=\"agendaContent\").get_text(separator='\\n')\n",
    "    cleaned_text = '\\n'.join(line for line in text.split('\\n') if line.strip())\n",
    "    return cleaned_text\n",
    "\n",
    "def get_date(soup):\n",
    "    return soup.find(\"div\", {\"class\": \"agendaDatum\"}).get_text().strip()"
   ]
  },
  {
   "cell_type": "code",
   "execution_count": 9,
   "id": "71202478-2b13-4214-b895-4a910b1feac1",
   "metadata": {},
   "outputs": [],
   "source": [
    "parsed = []\n",
    "\n",
    "for file in file_list:\n",
    "    with open(file, 'r') as f:\n",
    "        data = f.read()\n",
    "    soup = BeautifulSoup(data, 'html.parser')\n",
    "    date = get_date(soup)\n",
    "    content = get_content(soup)\n",
    "    \n",
    "    parsed.append((file, date, content))"
   ]
  },
  {
   "cell_type": "code",
   "execution_count": 10,
   "id": "08cfd31a-d3d5-436a-b5e6-fa95d8235794",
   "metadata": {},
   "outputs": [],
   "source": [
    "df = pd.DataFrame(parsed, columns=[\"file\", \"date\", \"content\"]).sort_values(\"file\")"
   ]
  },
  {
   "cell_type": "code",
   "execution_count": 11,
   "id": "5f611175-f014-4013-acd0-d244dadaefd6",
   "metadata": {},
   "outputs": [
    {
     "data": {
      "text/plain": [
       "\"De kerkdienst wordt gehouden in de Immanuelkerk en wordt ook uitgezonden via Youtube\\nKlik \\nhier\\n om de dienst van deze week te bekijken\\nLiturgie\\n:\\nWelkom in de dienst\\n Lied: - Kom nu is de tijd - Opwekking 539\\n Votum en zegengroet\\n Lied. Still my soul be still / stil mijn ziel wees stil - Opwekking 717\\n Verootmoediging/leefregel\\n Lied. Here's my heart Lord - Opwekking 802\\n Gebed\\n Lantaarn aansteken\\n Lezing: Matteus 18:1-11\\n Lied: Fundament - Opwekking 785\\n Preek\\n Lied: Heer wijs mij Uw weg - Sela / Opwekking 687\\n Gebed\\n Collecte + lied band: Build my life - Pat Barrett\\n Lied: God van licht / My lighthouse - Opwekking 807\\n Zegen\\nRooster\\n Houd me op de hoogte\\n\\xa0\\xa0Delen\\n\\xa0\\xa0Tweeten\\n\\xa0\\xa0LinkedIn\\n\\xa0\\xa0E-mail\\n Opslaan in mijn agenda\\n Outlook\\n Google Kalender\\n iCalendar\""
      ]
     },
     "execution_count": 11,
     "metadata": {},
     "output_type": "execute_result"
    }
   ],
   "source": [
    "df[\"content\"][10]"
   ]
  },
  {
   "cell_type": "code",
   "execution_count": 12,
   "id": "44053f14-e1a2-461b-876d-0a8a3998f3d2",
   "metadata": {},
   "outputs": [],
   "source": [
    "client = OpenAI(\n",
    "    api_key=os.environ.get(\"OPENAI_API_KEY\"),\n",
    ")\n",
    "\n",
    "def extract_songs_from_liturgy(text):\n",
    "    chat_completion = client.chat.completions.create(\n",
    "        messages=[\n",
    "            {\"role\": \"system\", \"content\": f\"Extract the section 'Liturgie' from the text below and only reply with the songs ('Lied'). Reply in Markdown. Leave out anything else.\"},\n",
    "            {\n",
    "                \"role\": \"user\",\n",
    "                \"content\": text,\n",
    "            }\n",
    "        ],\n",
    "        model=\"gpt-3.5-turbo\",\n",
    "    )\n",
    "    return chat_completion.choices[0].message.content\n"
   ]
  },
  {
   "cell_type": "code",
   "execution_count": 13,
   "id": "3a815524-463e-438f-8ca3-4d5bbba1243a",
   "metadata": {},
   "outputs": [],
   "source": [
    "if RERUN_OPENAI:\n",
    "    responses = {}\n",
    "    for index, row in tqdm(df.iterrows()):\n",
    "        responses[row.file] = extract_songs_from_liturgy(row.content)\n",
    "\n",
    "    with open(\"api_responses.json\", 'w') as o:\n",
    "        o.write(json.dumps(responses))"
   ]
  },
  {
   "cell_type": "code",
   "execution_count": 14,
   "id": "a848ca3b-efed-4b8e-ab3b-f31e7a60a7fd",
   "metadata": {},
   "outputs": [
    {
     "data": {
      "text/plain": [
       "'- Lied: Dank u voor deze nieuwe morgen\\n- Lied: Wij zijn als adem, U was er altijd - opw 558\\n- Lied: Licht Aan (Deze dingen wil God graag) - Schrijvers voor gerechtigheid\\n- Lied: Mijn Jezus, mijn redder (Juich voor de Heer) - opw 461\\n- Slotlied: The Blessing - Cody Carnes, Kari Jobe'"
      ]
     },
     "execution_count": 14,
     "metadata": {},
     "output_type": "execute_result"
    }
   ],
   "source": [
    "with open(\"api_responses.json\", 'r') as f:\n",
    "    responses = json.loads(f.read())\n",
    "\n",
    "responses['./data/244485.html']"
   ]
  },
  {
   "cell_type": "code",
   "execution_count": 15,
   "id": "594cc874-d6d0-4dbe-a4f9-9d2f35bef921",
   "metadata": {},
   "outputs": [],
   "source": [
    "ai_summaries = pd.DataFrame([(key, value) for key, value in responses.items()], columns=[\"file\", \"songs_ai\"])\n",
    "combined = ai_summaries.merge(df)"
   ]
  },
  {
   "cell_type": "code",
   "execution_count": 16,
   "id": "dd63b01a-b483-45f8-8bba-b1707f92a1c8",
   "metadata": {},
   "outputs": [
    {
     "data": {
      "text/html": [
       "<div>\n",
       "<style scoped>\n",
       "    .dataframe tbody tr th:only-of-type {\n",
       "        vertical-align: middle;\n",
       "    }\n",
       "\n",
       "    .dataframe tbody tr th {\n",
       "        vertical-align: top;\n",
       "    }\n",
       "\n",
       "    .dataframe thead th {\n",
       "        text-align: right;\n",
       "    }\n",
       "</style>\n",
       "<table border=\"1\" class=\"dataframe\">\n",
       "  <thead>\n",
       "    <tr style=\"text-align: right;\">\n",
       "      <th></th>\n",
       "      <th>file</th>\n",
       "      <th>songs_ai</th>\n",
       "      <th>date</th>\n",
       "    </tr>\n",
       "  </thead>\n",
       "  <tbody>\n",
       "    <tr>\n",
       "      <th>0</th>\n",
       "      <td>./data/244485.html</td>\n",
       "      <td>- Lied: Dank u voor deze nieuwe morgen</td>\n",
       "      <td>16 juli 2023 10:00 tot 11:00</td>\n",
       "    </tr>\n",
       "    <tr>\n",
       "      <th>0</th>\n",
       "      <td>./data/244485.html</td>\n",
       "      <td>- Lied: Wij zijn als adem, U was er altijd - o...</td>\n",
       "      <td>16 juli 2023 10:00 tot 11:00</td>\n",
       "    </tr>\n",
       "    <tr>\n",
       "      <th>0</th>\n",
       "      <td>./data/244485.html</td>\n",
       "      <td>- Lied: Licht Aan (Deze dingen wil God graag) ...</td>\n",
       "      <td>16 juli 2023 10:00 tot 11:00</td>\n",
       "    </tr>\n",
       "    <tr>\n",
       "      <th>0</th>\n",
       "      <td>./data/244485.html</td>\n",
       "      <td>- Lied: Mijn Jezus, mijn redder (Juich voor de...</td>\n",
       "      <td>16 juli 2023 10:00 tot 11:00</td>\n",
       "    </tr>\n",
       "    <tr>\n",
       "      <th>0</th>\n",
       "      <td>./data/244485.html</td>\n",
       "      <td>- Slotlied: The Blessing - Cody Carnes, Kari Jobe</td>\n",
       "      <td>16 juli 2023 10:00 tot 11:00</td>\n",
       "    </tr>\n",
       "    <tr>\n",
       "      <th>...</th>\n",
       "      <td>...</td>\n",
       "      <td>...</td>\n",
       "      <td>...</td>\n",
       "    </tr>\n",
       "    <tr>\n",
       "      <th>58</th>\n",
       "      <td>./data/268180.html</td>\n",
       "      <td>- Lied: **Psalm 121: 4:5 - Een bod’ge van Zijn...</td>\n",
       "      <td>14 juli 2024 10:00 tot 11:00</td>\n",
       "    </tr>\n",
       "    <tr>\n",
       "      <th>58</th>\n",
       "      <td>./data/268180.html</td>\n",
       "      <td>- Lied: **Psalm 33: 7 en 9 - God’s oog rust op...</td>\n",
       "      <td>14 juli 2024 10:00 tot 11:00</td>\n",
       "    </tr>\n",
       "    <tr>\n",
       "      <th>58</th>\n",
       "      <td>./data/268180.html</td>\n",
       "      <td>- Lied: **Psalm 33: 10:11 - Hij kwam, Hij komt</td>\n",
       "      <td>14 juli 2024 10:00 tot 11:00</td>\n",
       "    </tr>\n",
       "    <tr>\n",
       "      <th>58</th>\n",
       "      <td>./data/268180.html</td>\n",
       "      <td>- Lied: **Psalm 84: 6: en 7 -’t Is naad’ren to...</td>\n",
       "      <td>14 juli 2024 10:00 tot 11:00</td>\n",
       "    </tr>\n",
       "    <tr>\n",
       "      <th>58</th>\n",
       "      <td>./data/268180.html</td>\n",
       "      <td>- Lied: **Psalm 84: 8 - Een dag is in Uwe voor...</td>\n",
       "      <td>14 juli 2024 10:00 tot 11:00</td>\n",
       "    </tr>\n",
       "  </tbody>\n",
       "</table>\n",
       "<p>302 rows × 3 columns</p>\n",
       "</div>"
      ],
      "text/plain": [
       "                  file                                           songs_ai  \\\n",
       "0   ./data/244485.html             - Lied: Dank u voor deze nieuwe morgen   \n",
       "0   ./data/244485.html  - Lied: Wij zijn als adem, U was er altijd - o...   \n",
       "0   ./data/244485.html  - Lied: Licht Aan (Deze dingen wil God graag) ...   \n",
       "0   ./data/244485.html  - Lied: Mijn Jezus, mijn redder (Juich voor de...   \n",
       "0   ./data/244485.html  - Slotlied: The Blessing - Cody Carnes, Kari Jobe   \n",
       "..                 ...                                                ...   \n",
       "58  ./data/268180.html  - Lied: **Psalm 121: 4:5 - Een bod’ge van Zijn...   \n",
       "58  ./data/268180.html  - Lied: **Psalm 33: 7 en 9 - God’s oog rust op...   \n",
       "58  ./data/268180.html     - Lied: **Psalm 33: 10:11 - Hij kwam, Hij komt   \n",
       "58  ./data/268180.html  - Lied: **Psalm 84: 6: en 7 -’t Is naad’ren to...   \n",
       "58  ./data/268180.html  - Lied: **Psalm 84: 8 - Een dag is in Uwe voor...   \n",
       "\n",
       "                            date  \n",
       "0   16 juli 2023 10:00 tot 11:00  \n",
       "0   16 juli 2023 10:00 tot 11:00  \n",
       "0   16 juli 2023 10:00 tot 11:00  \n",
       "0   16 juli 2023 10:00 tot 11:00  \n",
       "0   16 juli 2023 10:00 tot 11:00  \n",
       "..                           ...  \n",
       "58  14 juli 2024 10:00 tot 11:00  \n",
       "58  14 juli 2024 10:00 tot 11:00  \n",
       "58  14 juli 2024 10:00 tot 11:00  \n",
       "58  14 juli 2024 10:00 tot 11:00  \n",
       "58  14 juli 2024 10:00 tot 11:00  \n",
       "\n",
       "[302 rows x 3 columns]"
      ]
     },
     "execution_count": 16,
     "metadata": {},
     "output_type": "execute_result"
    }
   ],
   "source": [
    "exploded = combined.copy()\n",
    "exploded[\"songs_ai\"] = exploded.apply(lambda row: row[\"songs_ai\"].split(\"\\n\"), axis=1)\n",
    "exploded = exploded.explode(\"songs_ai\")\n",
    "exploded = exploded[[\"file\", \"songs_ai\", \"date\"]]\n",
    "exploded"
   ]
  },
  {
   "cell_type": "code",
   "execution_count": 17,
   "id": "1ca88047-5e5e-4fec-9726-fc1f0d3e527e",
   "metadata": {},
   "outputs": [],
   "source": [
    "combined.to_excel(\"zangdiensten.xlsx\")"
   ]
  },
  {
   "cell_type": "code",
   "execution_count": 18,
   "id": "cc0a452b-4835-4e1b-b4ff-e337e70088ef",
   "metadata": {},
   "outputs": [],
   "source": [
    "exploded.to_excel(\"liedjes.xlsx\")"
   ]
  }
 ],
 "metadata": {
  "kernelspec": {
   "display_name": "liturgie",
   "language": "python",
   "name": "liturgie"
  },
  "language_info": {
   "codemirror_mode": {
    "name": "ipython",
    "version": 3
   },
   "file_extension": ".py",
   "mimetype": "text/x-python",
   "name": "python",
   "nbconvert_exporter": "python",
   "pygments_lexer": "ipython3",
   "version": "3.10.14"
  }
 },
 "nbformat": 4,
 "nbformat_minor": 5
}
