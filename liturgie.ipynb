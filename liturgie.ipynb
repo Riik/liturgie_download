{
 "cells": [
  {
   "cell_type": "code",
   "execution_count": 73,
   "id": "72b8bf58-3e14-40b8-9fa1-f4977f394b76",
   "metadata": {},
   "outputs": [
    {
     "name": "stdout",
     "output_type": "stream",
     "text": [
      "Requirement already satisfied: tqdm in ./.venv/lib/python3.10/site-packages (4.66.4)\n",
      "Requirement already satisfied: pandas in ./.venv/lib/python3.10/site-packages (2.2.2)\n",
      "Requirement already satisfied: openai in ./.venv/lib/python3.10/site-packages (1.35.10)\n",
      "Collecting openpyxl\n",
      "  Downloading openpyxl-3.1.5-py2.py3-none-any.whl.metadata (2.5 kB)\n",
      "Requirement already satisfied: numpy>=1.22.4 in ./.venv/lib/python3.10/site-packages (from pandas) (2.0.0)\n",
      "Requirement already satisfied: python-dateutil>=2.8.2 in ./.venv/lib/python3.10/site-packages (from pandas) (2.9.0.post0)\n",
      "Requirement already satisfied: pytz>=2020.1 in ./.venv/lib/python3.10/site-packages (from pandas) (2024.1)\n",
      "Requirement already satisfied: tzdata>=2022.7 in ./.venv/lib/python3.10/site-packages (from pandas) (2024.1)\n",
      "Requirement already satisfied: anyio<5,>=3.5.0 in ./.venv/lib/python3.10/site-packages (from openai) (4.4.0)\n",
      "Requirement already satisfied: distro<2,>=1.7.0 in ./.venv/lib/python3.10/site-packages (from openai) (1.9.0)\n",
      "Requirement already satisfied: httpx<1,>=0.23.0 in ./.venv/lib/python3.10/site-packages (from openai) (0.27.0)\n",
      "Requirement already satisfied: pydantic<3,>=1.9.0 in ./.venv/lib/python3.10/site-packages (from openai) (2.8.2)\n",
      "Requirement already satisfied: sniffio in ./.venv/lib/python3.10/site-packages (from openai) (1.3.1)\n",
      "Requirement already satisfied: typing-extensions<5,>=4.7 in ./.venv/lib/python3.10/site-packages (from openai) (4.12.2)\n",
      "Collecting et-xmlfile (from openpyxl)\n",
      "  Downloading et_xmlfile-1.1.0-py3-none-any.whl.metadata (1.8 kB)\n",
      "Requirement already satisfied: idna>=2.8 in ./.venv/lib/python3.10/site-packages (from anyio<5,>=3.5.0->openai) (3.7)\n",
      "Requirement already satisfied: exceptiongroup>=1.0.2 in ./.venv/lib/python3.10/site-packages (from anyio<5,>=3.5.0->openai) (1.2.1)\n",
      "Requirement already satisfied: certifi in ./.venv/lib/python3.10/site-packages (from httpx<1,>=0.23.0->openai) (2024.7.4)\n",
      "Requirement already satisfied: httpcore==1.* in ./.venv/lib/python3.10/site-packages (from httpx<1,>=0.23.0->openai) (1.0.5)\n",
      "Requirement already satisfied: h11<0.15,>=0.13 in ./.venv/lib/python3.10/site-packages (from httpcore==1.*->httpx<1,>=0.23.0->openai) (0.14.0)\n",
      "Requirement already satisfied: annotated-types>=0.4.0 in ./.venv/lib/python3.10/site-packages (from pydantic<3,>=1.9.0->openai) (0.7.0)\n",
      "Requirement already satisfied: pydantic-core==2.20.1 in ./.venv/lib/python3.10/site-packages (from pydantic<3,>=1.9.0->openai) (2.20.1)\n",
      "Requirement already satisfied: six>=1.5 in ./.venv/lib/python3.10/site-packages (from python-dateutil>=2.8.2->pandas) (1.16.0)\n",
      "Downloading openpyxl-3.1.5-py2.py3-none-any.whl (250 kB)\n",
      "\u001b[2K   \u001b[38;2;114;156;31m━━━━━━━━━━━━━━━━━━━━━━━━━━━━━━━━━━━━━━━━\u001b[0m \u001b[32m250.9/250.9 kB\u001b[0m \u001b[31m7.2 MB/s\u001b[0m eta \u001b[36m0:00:00\u001b[0m\n",
      "\u001b[?25hDownloading et_xmlfile-1.1.0-py3-none-any.whl (4.7 kB)\n",
      "Installing collected packages: et-xmlfile, openpyxl\n",
      "Successfully installed et-xmlfile-1.1.0 openpyxl-3.1.5\n",
      "\n",
      "\u001b[1m[\u001b[0m\u001b[34;49mnotice\u001b[0m\u001b[1;39;49m]\u001b[0m\u001b[39;49m A new release of pip is available: \u001b[0m\u001b[31;49m24.0\u001b[0m\u001b[39;49m -> \u001b[0m\u001b[32;49m24.1.1\u001b[0m\n",
      "\u001b[1m[\u001b[0m\u001b[34;49mnotice\u001b[0m\u001b[1;39;49m]\u001b[0m\u001b[39;49m To update, run: \u001b[0m\u001b[32;49mpip install --upgrade pip\u001b[0m\n",
      "Note: you may need to restart the kernel to use updated packages.\n"
     ]
    }
   ],
   "source": [
    "%pip install tqdm pandas openai openpyxl"
   ]
  },
  {
   "cell_type": "code",
   "execution_count": 29,
   "id": "d828331a-50ad-4307-81d0-891cffadb79b",
   "metadata": {},
   "outputs": [],
   "source": [
    "import requests\n",
    "from bs4 import BeautifulSoup\n",
    "import glob \n",
    "from tqdm import tqdm \n",
    "import os\n",
    "from openai import OpenAI\n",
    "import glob\n",
    "import pandas as pd\n",
    "import json"
   ]
  },
  {
   "cell_type": "code",
   "execution_count": 17,
   "id": "6cd358ab-e3e9-48ab-8f7a-64945c49dcfe",
   "metadata": {},
   "outputs": [],
   "source": [
    "# get the cookie from web browser and paste it in a text file. Should look something like this: \n",
    "# kerkspot=<some characters>; ident=<some characters>; s=1\n",
    "with open(\"auth_cookie.txt\", 'r') as f:\n",
    "    auth_cookie = f.readline().strip()"
   ]
  },
  {
   "cell_type": "code",
   "execution_count": 18,
   "id": "08afc746-e612-4ee7-8e8b-b59e613cc105",
   "metadata": {},
   "outputs": [],
   "source": [
    "RERUN_SCRAPE = False\n",
    "RERUN_OPENAI = False"
   ]
  },
  {
   "cell_type": "code",
   "execution_count": 19,
   "id": "556d643f-c055-4737-a644-49f375597a7b",
   "metadata": {},
   "outputs": [],
   "source": [
    "def get_page(id):\n",
    "    url = f\"https://www.immanuelkerkdelft.nl/agenda/{id}/\"\n",
    "    headers = {'Cookie': auth_cookie}\n",
    "    return requests.request(\"GET\", url, headers=headers)"
   ]
  },
  {
   "cell_type": "code",
   "execution_count": 20,
   "id": "f3217560-b094-48a4-8b56-f75fe6b03f45",
   "metadata": {},
   "outputs": [],
   "source": [
    "# there are some gaps in the ranges of the IDs.\n",
    "# I manually searched some IDs found at https://www.immanuelkerkdelft.nl/go/gemeente/agenda/?d=4|2024&g=\n",
    "# You can change year / month in the URL, click event and then get ID from there\n",
    "ids_to_search = (\n",
    "    list(range(244491+20, 244491-20, -1))\n",
    "    # list(range(254149+20, 254149-20, -1)) +\n",
    "    # list(range(254250, 254250-30, -1)) +\n",
    "    # list(range(254250, 254250-20, -1)) +\n",
    "    # list(range(258150, 258150-50, -1)) + \n",
    "    # list(range(260500, 260500-50, -1)) + \n",
    "    # list(range(268180, 268180-50, -1))\n",
    ")\n"
   ]
  },
  {
   "cell_type": "code",
   "execution_count": 21,
   "id": "d2349468-d070-4c31-9021-cd0da5234d72",
   "metadata": {},
   "outputs": [],
   "source": [
    "if RERUN_SCRAPE:\n",
    "    found_ids = []\n",
    "    for i in tqdm(ids_to_search):\n",
    "        r = get_page(i)\n",
    "        if r.status_code == 200:\n",
    "            found_ids.append(i)\n",
    "            with open(f\"./data/{i}.html\", 'w') as o:\n",
    "                o.write(r.text)\n",
    "    \n",
    "    print(f\"Found ids: {found_ids}\")\n",
    "    print(f\"Max: {max(found_ids)}, min: {min(found_ids)}\")"
   ]
  },
  {
   "cell_type": "code",
   "execution_count": 22,
   "id": "2828fedb-89de-4a1d-8769-5fa8d2174bfd",
   "metadata": {},
   "outputs": [
    {
     "data": {
      "text/plain": [
       "59"
      ]
     },
     "execution_count": 22,
     "metadata": {},
     "output_type": "execute_result"
    }
   ],
   "source": [
    "file_list = [f for f in glob.glob(\"./data/*.html\")]\n",
    "\n",
    "len(file_list)\n",
    "# sorted(file_list)"
   ]
  },
  {
   "cell_type": "code",
   "execution_count": 23,
   "id": "8063c747-549f-42b0-8c3f-3ed59ad2c0ab",
   "metadata": {},
   "outputs": [],
   "source": [
    "def get_content(soup):\n",
    "    text = soup.find(id=\"agendaContent\").get_text(separator='\\n')\n",
    "    cleaned_text = '\\n'.join(line for line in text.split('\\n') if line.strip())\n",
    "    return cleaned_text\n",
    "\n",
    "def get_date(soup):\n",
    "    return soup.find(\"div\", {\"class\": \"agendaDatum\"}).get_text().strip()"
   ]
  },
  {
   "cell_type": "code",
   "execution_count": 24,
   "id": "71202478-2b13-4214-b895-4a910b1feac1",
   "metadata": {},
   "outputs": [],
   "source": [
    "parsed = []\n",
    "\n",
    "for file in file_list:\n",
    "    with open(file, 'r') as f:\n",
    "        data = f.read()\n",
    "    soup = BeautifulSoup(data, 'html.parser')\n",
    "    date = get_date(soup)\n",
    "    content = get_content(soup)\n",
    "    \n",
    "    parsed.append((file, date, content))"
   ]
  },
  {
   "cell_type": "code",
   "execution_count": 25,
   "id": "08cfd31a-d3d5-436a-b5e6-fa95d8235794",
   "metadata": {},
   "outputs": [],
   "source": [
    "\n",
    "df = pd.DataFrame(parsed, columns=[\"file\", \"date\", \"content\"]).sort_values(\"file\")"
   ]
  },
  {
   "cell_type": "code",
   "execution_count": 26,
   "id": "5f611175-f014-4013-acd0-d244dadaefd6",
   "metadata": {},
   "outputs": [
    {
     "data": {
      "text/plain": [
       "\"De kerkdienst wordt gehouden in de Immanuelkerk en wordt ook uitgezonden via Youtube\\nKlik \\nhier\\n om de dienst van deze week te bekijken\\nLiturgie\\n:\\nWelkom in de dienst\\n Lied: - Kom nu is de tijd - Opwekking 539\\n Votum en zegengroet\\n Lied. Still my soul be still / stil mijn ziel wees stil - Opwekking 717\\n Verootmoediging/leefregel\\n Lied. Here's my heart Lord - Opwekking 802\\n Gebed\\n Lantaarn aansteken\\n Lezing: Matteus 18:1-11\\n Lied: Fundament - Opwekking 785\\n Preek\\n Lied: Heer wijs mij Uw weg - Sela / Opwekking 687\\n Gebed\\n Collecte + lied band: Build my life - Pat Barrett\\n Lied: God van licht / My lighthouse - Opwekking 807\\n Zegen\\nRooster\\n Houd me op de hoogte\\n\\xa0\\xa0Delen\\n\\xa0\\xa0Tweeten\\n\\xa0\\xa0LinkedIn\\n\\xa0\\xa0E-mail\\n Opslaan in mijn agenda\\n Outlook\\n Google Kalender\\n iCalendar\""
      ]
     },
     "execution_count": 26,
     "metadata": {},
     "output_type": "execute_result"
    }
   ],
   "source": [
    "df[\"content\"][10]"
   ]
  },
  {
   "cell_type": "code",
   "execution_count": 27,
   "id": "44053f14-e1a2-461b-876d-0a8a3998f3d2",
   "metadata": {},
   "outputs": [],
   "source": [
    "\n",
    "client = OpenAI(\n",
    "    api_key=os.environ.get(\"OPENAI_API_KEY\"),\n",
    ")\n",
    "\n",
    "def extract_songs_from_liturgy(text):\n",
    "    chat_completion = client.chat.completions.create(\n",
    "        messages=[\n",
    "            {\"role\": \"system\", \"content\": f\"Extract the section 'Liturgie' from the text below and only reply with the songs ('Lied'). Reply in Markdown. Leave out anything else.\"},\n",
    "            {\n",
    "                \"role\": \"user\",\n",
    "                \"content\": text,\n",
    "            }\n",
    "        ],\n",
    "        model=\"gpt-3.5-turbo\",\n",
    "    )\n",
    "    return chat_completion.choices[0].message.content\n"
   ]
  },
  {
   "cell_type": "code",
   "execution_count": 30,
   "id": "3a815524-463e-438f-8ca3-4d5bbba1243a",
   "metadata": {},
   "outputs": [],
   "source": [
    "if RERUN_OPENAI:\n",
    "    responses = {}\n",
    "    for index, row in tqdm(df.iterrows()):\n",
    "        responses[row.file] = extract_songs_from_liturgy(row.content)\n",
    "\n",
    "    with open(\"api_responses.json\", 'w') as o:\n",
    "        o.write(json.dumps(responses))"
   ]
  },
  {
   "cell_type": "code",
   "execution_count": 31,
   "id": "a848ca3b-efed-4b8e-ab3b-f31e7a60a7fd",
   "metadata": {},
   "outputs": [
    {
     "data": {
      "text/plain": [
       "{'./data/244485.html': '- Lied: Dank u voor deze nieuwe morgen\\n- Lied: Wij zijn als adem, U was er altijd - opw 558\\n- Lied: Licht Aan (Deze dingen wil God graag) - Schrijvers voor gerechtigheid\\n- Lied: Mijn Jezus, mijn redder (Juich voor de Heer) - opw 461\\n- Slotlied: The Blessing - Cody Carnes, Kari Jobe',\n",
       " './data/244486.html': '- Lied: Dit is de dag\\n- Lied: Psalm 33: 1,2 en 3\\n- Lied: Psalm 146: 1,3 en 4\\n- Lied: Ps. 146: 2,5\\n- Lied: Psalm 2: 1 en 2\\n- Lied: Psalm 33: 4,5 en 6',\n",
       " './data/244487.html': '- Lied Pvn 16 (Ik val niet uit zijn hand)\\n- Lied Pvn 130 (Uit de diepten)\\n- Lied OPW 733 (Tienduizend redenen)\\n- Lied OPW 599 (Kom tot de Vader)\\n- Lied OPW 595 (Licht van de wereld)',\n",
       " './data/244488.html': '- Psalm 93,1-3 (Nieuwe Psalmberijming)\\n- Lied 7: 1 en 4 (Liedboek voor de kerken)\\n- Psalm 40,4 (Nieuwe Psalmberijming)\\n- Psalm 2,1-2 (Nieuwe Psalmberijming)\\n- Gezang 139: 3 en 5 (Gereformeerd Kerkboek)\\n- Psalm 36,2 (Nieuwe Psalmberijming)',\n",
       " './data/244489.html': \"- Lied: ‘God, ik adem om van U te zingen’ (Psalmen voor Nu 145)\\n- Lied: 'Uit de diepte' (Psalmen voor Nu 130)\\n- Lied: 'loof de Heer mijn ziel' (Psalm 103, psalm project)\\n- Lied: Door de wereld gaat een woord (LvK 802: 1, 2, 4)\\n- Lied: God van Licht (Opw. 807)\",\n",
       " './data/244490.html': '- Opw. 638: Prijs Adonai\\n- Opw. 263: Er is een verlosser\\n- Lied: U bent mijn schuilplaats Heer\\n- Slotlied: Wij blijven geloven',\n",
       " './data/244491.html': \"### Liturgie\\n- Lied: Mijn hulp is van u heer (Opw. 640)\\n- Lied: 'Heer ik kom tot u, hoor naar mijn gebed.'\\n- Lied: Mijn Jezus, mijn redder (juich voor de Heer - Opw 461)\\n- Lied tijdens collecte: Chris Tomlin: Holy Forever\\n- Lied tijdens viering Heilig Avondmaal: 'Familie'; 'Er is een verlosser'; 'U bent mijn schuilplaats Heer'\\n- Dankzegging na de viering: Psalm 103 vers 1 en 3 (GK)\\n- Slotlied: Houd vol (Opw. 798)\",\n",
       " './data/254146.html': '- met open armen\\n- Ik geloof in God de Vader\\n- Liefde, blijdschap, vrede\\n- wees stil voor het aangezicht van God\\n- Mijn verlosser leeft\\n- Licht van de wereld\\n- Juicht, want Jezus is Heer',\n",
       " './data/254147.html': '- Lied: laat ons samen één zijn (Sela)\\n- Lied: Zegekroon (Opw. 764)\\n- Lied: Breng ons samen (Opw. 797)\\n- Lied: Heer vergeef ons - SvG\\n- Slotlied: Toekomst vol van hoop',\n",
       " './data/254148.html': '- Lied: Psalm 27 : 1 2 (DNP)\\n- Lied: Liedboek 38 : 1 4\\n- Lied: Psalm 102 : 1 4 (DNP)\\n- Lied: Opwekking 378\\n- Lied: Gezang 864 : 1 2\\n- Amenlied: Liedboek 864 : 5',\n",
       " './data/254149.html': \"- Lied: 'Groot is uw trouw o Heer'\\n- Lied: 'Heer U bent mijn leven de grond waarop ik sta'\\n- Lied: 'Laat de kinderen tot mij komen'\\n- Dankzegging: Psalm 136 (the Psalm Project)\",\n",
       " './data/254150.html': '- Lied 1\\n- Lied 2\\n- Lied 3',\n",
       " './data/254229.html': '- Opw 815: Vul dit huis met uw glorie\\n- Opw 174: Juicht want Jezus is Heer\\n- Opw 638: Prijs Adonai\\n- Opw 585: Er is een dag',\n",
       " './data/254230.html': \"- Lied: dank u voor deze nieuwe morgen (NLB 218)\\n- Lied: Psalm 150 (NLB 150a: ‘Geprezen zij God’)\\n- Kinderlied: '7 maal 70 maal' (Elly & Rikkert)\\n- Lied: Psalm 95:1,2 (denieuwepsalmberijming.nl)\\n- Lied: 'Genade zo oneindig groot' (NL vertaling van ‘Amazing Grace’)\\n- Slotlied: 'Ga nu heen in vrede' (uit de bundel van Joh. de Heer, op de wijs van ‘Land of Hope and glory’)\",\n",
       " './data/254231.html': '- Heer uw licht en uw liefde schijnen\\n- Heer onze God, hoe heerlijk is uw naam\\n- Dan bent u met ons\\n- Zie de zon, zie de maan\\n- Glorie heeft een naam\\n- Wij blijven geloven',\n",
       " './data/254232.html': \"- Lied: 'Zomaar een dak' (NLB 276)\\n- Lied: 'Geef vrede Heer, geef vrede' (NLB 1010)\\n- Lied: ‘Zoek eerst het koninkrijk van God’ (canon)\\n- Lied: 'Genadig Heer' (NLB 381,1-5)\\n- Dankzegging (en slotlied): Psalm 103 (NLB 103c in wisselzang)\",\n",
       " './data/254233.html': '- Uit de diepte roep ik U\\n- Hoe groot zijt Gij\\n- Ik zal er zijn \\n- Ga met God en Hij zal met je zijn',\n",
       " './data/254234.html': \"- Lied: 10.000 redenen  \\n- Lied: 'Dankt dankt nu allen God'  \\n- Lied: 'Dank U voor deze nieuwe morgen'  \\n- Antwoordlied: Psalm 67 (DNP)  \\n- Slotlied: 'Toekomst vol van Hoop'  \",\n",
       " './data/254235.html': \"- Lied: 'Onze schuilplaats'\\n- Lied: 'Hier is mijn hart, Heer'\\n- Lied: 'Licht aan'\\n- Inleiding op het gebed: 'Beauty for brokeness'\\n- Slotlied: Psalm 98\",\n",
       " './data/254236.html': '- Lied 1005 Zoekend naar licht, couplet 1 t/m 5\\n- Lied: Ik geloof in God de Vader, couplet 1 t/m 3\\n- Lied: Ik geloof in God de Vader, 4',\n",
       " './data/254237.html': '- Lied: Verwachten (Sela)  \\n- Lied: Heer u bent mijn leven (vs. 1 en 4)  \\n- Lied: Op U alleen, mijn licht, mijn kracht, stel ik mijn hoop, U zorgt voor mij  \\n- Slotlied: Toekomst vol van hoop',\n",
       " './data/254238.html': '- Psalm 96:1,2,4,5 (NPB)\\n- Kom tot ons Heer (Sela, themalied)\\n- Gezang 439 (NieuweLiedBoek)\\n- Gezang 78 (Oude Liedboek, 1973)\\n- Gezang 444 (NieuweLiedboek)',\n",
       " './data/254239.html': \"- Lied: Onze Schuilplaats\\n- Lied: Way Maker\\n- Lied: 'Our God'\",\n",
       " './data/254240.html': '- Kom tot ons Heer (Sela)\\n- We are one in the Spirit (Opw. 8)\\n- Zegenwens (Elly & Rickert)\\n- Op U alleen (NLB 939)\\n- God ik adem om van U te zingen (Psalmen voor Nu 145)',\n",
       " './data/254241.html': '### Lied: \"Kom tot ons Heer\" (Sela)\\n### Lied: \"10.000 redenen\" (opwekking 733)\\n### Lied: \"Loof de Heer mijn ziel\" (Psalm Project 103)\\n### Lied: \"Licht van de wereld\" (opwekking 595)\\n### Lied: \"My light house\"',\n",
       " './data/254242.html': \"- Lied: ‘God is getrouw zijn plannen falen niet’ (GKB 250:1,3)\\n- Lied: 'Wij trekken in een lange stoet' (NLB 506)\\n- Lied: 'Jezus leeft in eeuwigheid' (GK 228)\\n- Dank- en slotlied: ‘Dank, dank nu allen God’ (NLB 704)\",\n",
       " './data/258120.html': \"- Lied: 'Komt allen tezamen'\\n- Lied: 'Joy to the world/ God maakt vrij.'\\n- Lied: ‘Nu is het feest, het is zover.’\\n- Lied: ‘Vrolijk kerstfeest iedereen’\\n- Lied: ‘Ere zij God’\",\n",
       " './data/258121.html': '- Lied:\\xa0Onze hulp en onze verwachting (Sela)\\n- Lied:\\xa0Hoe groot zijt Gij\\xa0(Opw 407)\\n- Lied:\\xa0Eén ding vraag ik (Psalm 27:2, de nieuwe psalmberijming)\\n- Lied: op U alleen (nieuwe liedboek 939)\\n- Lied: gebed om zegen (Opwekking 710)\\n- Lied: Ga met God en Hij zal met je zijn\\xa0(Liedboek 416)',\n",
       " './data/258122.html': '- Juicht, want Jezus is Heer!\\n- Uw Woord is een lamp voor mijn voet\\n- Psalmen voor Nu 121\\n- Prijs Adonai (Opw. 638)\\n- Regeer in mij (Opw. 569)',\n",
       " './data/258123.html': '- Psalm 121:1 en 4\\n- GK168: 1-4 (Vader, vol van vrees en schaamte)\\n- NLB 675: 1 en 2 (Geest van hierboven)\\n- GK177:1-4 (Heer u bent mijn leven)\\n- NLB 103c: 1, 2 en 5 (Loof de koning, heel mijn wezen)',\n",
       " './data/258124.html': \"- Lied: 'In de naam van de Vader' (Opw. 720)\\n- Lied: 'Ik geloof in God de Vader' (Opw. 347)\\n- Antwoordlied: 'Op U alleen' (NLB 939)\\n- Luisterlied: 'Above all'\\n- Zegenlied (Opw. 710)\\n- Gebed en viering (lied: ‘Aan uw tafel’, Sela)\\n- Dankzegging: Psalm 136 (Psalm Project)\\n- Slotlied: ‘er is een dag’\",\n",
       " './data/260483.html': '- **Psalm 133 (Psalmen voor nu)**\\n- **Jezus vol liefde, Gezang 233 in canon**\\n- **Vreugde van mijn hart, Sela**\\n- **King of Kings, Opwekking 137**\\n- **Komt laat ons vrolijk zingen, Gezang 254**\\n- **Dank, dankt nu allen God, Nieuw liedboek 704**\\n- **Vredevorst, uw schepping wacht, Gezang 257:7**',\n",
       " './data/260484.html': \"- 'k Stel mijn vertrouwen in de Heer mijn God (in Canon)\\n- Samen in de naam van Jezus\",\n",
       " './data/260485.html': \"- Opw. 276 'Groot is de Heer'\\n- Opw. 464 'Weest stil voor het aangezicht van God, want Heilig is de Heer'\\n- Lied: Opw. 840 'Heer, ik wacht op u'\\n- PvN 145 'God ik adem om van U te zingen'\\n- Lied: Opw 268 'Hij kwam bij ons heel gewoon'\\n- Lied: Opw. 807 ‘God van licht’\",\n",
       " './data/260486.html': '- **Lied:** Psalm 130\\n- **Lied:** Psalm 103',\n",
       " './data/260487.html': '- Lied: Kom nu is de tijd (Opw 539)  \\n- Lied: Heer u bent mijn leven (vers 1 en 3)  \\n- Kinderlied: Hij is de rots!  \\n- Lied: Fundament (Opw. 785)  \\n- Lied: Psalm 62:3,4 (DNB)  \\n- Slotlied: Vervuld van Gods zegen (Liedboek 425)  ',\n",
       " './data/268140.html': '- Lied: Psalm 95:1 en 2 (DNP)  \\n- Lied: Psalm 95:3 (DNP)  \\n- Lied: Alles wat over ons geschreven staat (NLB 556)  \\n- Lied: Eens komt de grote zomer (NLB 747:1,2,4,7)  \\n- Lied: Heer wij komen vol verlangen (Gezang 360:1,2)  \\n- Dankzegging en slotlied: Heer onze God, geprezen zij (NLB 870:1-3 en 6-8)  ',\n",
       " './data/268141.html': '- Opwekking 539: “Kom nu is de tijd”\\n- Tot zeven maal zeventig maal (Elly en Rikkert)\\n- Psalm 103: 1 en 3 (Nieuwe Psalmberijming)\\n- Opwekking 629: “Als er vergeving is”\\n- Opwekking 811: “Witter dan sneeuw”\\n- Groot is uw trouw o Heer',\n",
       " './data/268142.html': '- Zie hoe Jezus daar loopt (Opwekking 614)  \\n- Create in me a clean heart (naar Psalm 51 / Opwekking 389)  \\n- Ik zal er zijn (Sela)  \\n- Mijn hulp is van U, Heer (naar Psalm 121 / Opwekking 640)  \\n- God ik adem om van u te zingen (Psalm 145 / Opwekking 734)  ',\n",
       " './data/268144.html': '- Lied: Beveel gerust uw wegen\\n- Lied: Als een hert dat verlangt naar water\\n- Lied: Neem, Heer, mijn beide handen\\n- Lied: Heer, ik hoor van rijke zegen',\n",
       " './data/268148.html': \"### Lied\\n\\n- Psalm 118 (DNP): vers 5,6 en 7\\n- Psalm 117d: 'Laudate omnes gentes!'\\n- Lied: 'Alles wat over ons geschreven is' (NLB 556 vers 1 en 5)\\n- Lied: 'Dit is een dag van zingen' (NLB 552)\\n- Slotlied: ‘Eens als de bazuinen klinken’\",\n",
       " './data/268150.html': \"- Uw genade is mij genoeg\\xa0(Opw. 614)\\n- Geef vrede, Heer, geef vrede\\n- Jezus' leven van ons leven (NLB 575:1,2,6)\",\n",
       " './data/268152.html': '- Morning has broken\\n- Juicht want Jezus is Heer/Hij is verheerlijkt\\n- U bent heilig (Opw. 609 “... en ik leef alleen voor U”)\\n- Mijn verlosser leeft!\\n- Oceans (Where Feet May Fail)\\n- Aan Uw Tafel (Sela)\\n- U zij de glorie / A toi la gloire / Thine be the glory (213)',\n",
       " './data/268154.html': \"- Psalm 32\\xa0`Gelukkig wie door God is vrijgesproken’\\n- Gezang 462\\xa0`Ontwaak gij die slaapt’\\n- Opwekking 427 'Maak mij rein voor u'\\n- Opwekking 136 'Abba, Vader'\",\n",
       " './data/268156.html': '- Lied: Psalm 92:1,2 (DNP)\\n- ‘Ontwaak gij die slaapt’ (uit het oude liedboek gezang 462, vers 1,2 en 4)\\n- Lied: Psalm 72:7 (DNP)\\n- Lied: Psalm 91:1,3,4 (DNP)\\n- Slotlied: Christus onze Heer verrees (NLB 624)',\n",
       " './data/268158.html': '### Liturgie\\n\\n- Lied 1: \"Opwekking\"\\n- Lied 2: \"Halleluja\"\\n- Lied 3: \"Heer, ik kom tot U\"',\n",
       " './data/268159.html': '- Opw 349 Hij is verheerlijkt\\n- Opw 575 Jezus alleen\\n- Kinderlied: Ik volg de Heer\\n- Psalm 23 (psalternatief)\\n- Slotlied: Opw 764 zegekroon',\n",
       " './data/268162.html': '- Opw. 281/psalm 42: als een hert\\n- Psalm 1 (DNP)\\n- NLB 708:6 (6e couplet van het Wilhelmus)\\n- Opw. 595: licht van de wereld\\n- Opw. 720: God maakt vrij',\n",
       " './data/268163.html': '- Lied: Al heeft Hij ons verlaten (NLB 663)  \\n- Lied: Thy hand o God has guided (vers 1)  \\n- Lied: Thy hand o God has guided (vers 3)  \\n- Slotlied: NLB 675:1  ',\n",
       " './data/268165.html': '- Hoe groot is uw trouw, o Heer (Opw. 708)\\n- Kom Heilige Geest (Sela)\\n- Geest van hierboven (NLB 675:1)\\n- Heer u doorgrondt en kent mij (Opw. 518/Psalm 139)\\n- Familie (Opw. 767/Psalm 133)\\n- Mijn Jezus, mijn redder (Opw. 461)',\n",
       " './data/268167.html': '### Lied\\n- PsalmProject 27\\n- Gezang 449 (Liedboek 1973)\\n- Psalm 68:6a/7b (DNP)\\n- Opwekking 689\\n- Slotzang Hemelse gave (Sela)',\n",
       " './data/268168.html': '- Psalm 100:1,2,3 (DNP) ‘Juich, heel de aarde, voor de HEER’\\n- Geloofsbelijdenis: LB 342 ‘In God de Vader op zijn troon’\\n- Psalm 146:3,4,5 (DNP) ‘Wie op Jakobus God blijft bouwen’\\n- LB 936:1,2,3 ‘Luister naar de wind’\\n- LB 459:1,4,5,7 ‘Ik breng een rechter aan het licht’\\n- Opwekking 805 ‘Maak ons hart onrustig, God’',\n",
       " './data/268171.html': '- Psalmen voor Nu 121\\n- Lied: Agnus Dei (Michael W Smith | Hallelujah - for the Lord God almighty reigns)\\n- Lied voorafgaand aan de bijbellezing: Verwachten (Sela - opw. 780)\\n- Lied: Opw. 427 - Maak mij rein voor U.\\n- Slotlied: Hoor ons loflied, Heer! (Opw. 553)',\n",
       " './data/268173.html': \"- Kom nu is de tijd - Opwekking 539\\n- Still my soul be still / stil mijn ziel wees stil - Opwekking 717\\n- Here's my heart Lord - Opwekking 802\\n- Fundament - Opwekking 785\\n- Heer wijs mij Uw weg - Sela / Opwekking 687\\n- Build my life - Pat Barrett\\n- God van licht / My lighthouse - Opwekking 807\",\n",
       " './data/268174.html': \"**Lied**  \\n- 'Groot is uw trouw, o Heer' (NLB 885)  \\n- 'Father we love you' (NLB 875)  \\n- 'Als een hert dat verlangt naar water'  \\n- Psalm 42:1-3 (DNP)  \\n- Psalm 150 (NLB 150a)  \",\n",
       " './data/268175.html': '- NLB 216: 1-3 (Dit is een morgen als ooit de eerste)\\n- Psalmen voor Nu 16 (Ik val niet uit uw hand)\\n- Psalm 42:1-3 (De Nieuwe Psalmberijming)\\n- Psalm 42:4-6 (De Nieuwe Psalmberijming)\\n- Op Toonhoogte 220 (Wij blijven geloven)\\n- Opwekking 313 (Hou vol)',\n",
       " './data/268176.html': '- Lied: 10.000 Reasons (Bless the Lord - Opw. 733)\\n- Lied: Juicht want Jezus is Heer\\n- Lied: In de hemel is de Heer\\n- Lied: Toon mijn liefde (Opw. 705)\\n- Lied: Regeer in mij',\n",
       " './data/268177.html': '- Lied: Glorie aan God\\n- Lied: Psalm 150 (NLB 150a: geprezen zij God)',\n",
       " './data/268180.html': '- Lied: **Gezang 300 - Ere zij aan God, de Vader**\\n- Lied: **Psalm 121: 1 en 4 - Ik sla mijn ogen**\\n- Lied: **Psalm 121: 4:5 - Een bod’ge van Zijn trouw**\\n- Lied: **Psalm 33: 7 en 9 - God’s oog rust op de zijnen**\\n- Lied: **Psalm 33: 10:11 - Hij kwam, Hij komt\\n- Lied: **Psalm 84: 6: en 7 -’t Is naad’ren tot Uw poorten**\\n- Lied: **Psalm 84: 8 - Een dag is in Uwe voorhoven**'}"
      ]
     },
     "execution_count": 31,
     "metadata": {},
     "output_type": "execute_result"
    }
   ],
   "source": [
    "with open(\"api_responses.json\", 'r') as f:\n",
    "    responses = json.loads(f.read())\n",
    "\n",
    "responses"
   ]
  },
  {
   "cell_type": "code",
   "execution_count": 32,
   "id": "594cc874-d6d0-4dbe-a4f9-9d2f35bef921",
   "metadata": {},
   "outputs": [],
   "source": [
    "ai_summaries = pd.DataFrame([(key, value) for key, value in responses.items()], columns=[\"file\", \"songs_ai\"])\n",
    "combined = ai_summaries.merge(df)"
   ]
  },
  {
   "cell_type": "code",
   "execution_count": 33,
   "id": "dd63b01a-b483-45f8-8bba-b1707f92a1c8",
   "metadata": {},
   "outputs": [
    {
     "data": {
      "text/html": [
       "<div>\n",
       "<style scoped>\n",
       "    .dataframe tbody tr th:only-of-type {\n",
       "        vertical-align: middle;\n",
       "    }\n",
       "\n",
       "    .dataframe tbody tr th {\n",
       "        vertical-align: top;\n",
       "    }\n",
       "\n",
       "    .dataframe thead th {\n",
       "        text-align: right;\n",
       "    }\n",
       "</style>\n",
       "<table border=\"1\" class=\"dataframe\">\n",
       "  <thead>\n",
       "    <tr style=\"text-align: right;\">\n",
       "      <th></th>\n",
       "      <th>file</th>\n",
       "      <th>songs_ai</th>\n",
       "      <th>date</th>\n",
       "    </tr>\n",
       "  </thead>\n",
       "  <tbody>\n",
       "    <tr>\n",
       "      <th>0</th>\n",
       "      <td>./data/244485.html</td>\n",
       "      <td>- Lied: Dank u voor deze nieuwe morgen</td>\n",
       "      <td>16 juli 2023 10:00 tot 11:00</td>\n",
       "    </tr>\n",
       "    <tr>\n",
       "      <th>0</th>\n",
       "      <td>./data/244485.html</td>\n",
       "      <td>- Lied: Wij zijn als adem, U was er altijd - o...</td>\n",
       "      <td>16 juli 2023 10:00 tot 11:00</td>\n",
       "    </tr>\n",
       "    <tr>\n",
       "      <th>0</th>\n",
       "      <td>./data/244485.html</td>\n",
       "      <td>- Lied: Licht Aan (Deze dingen wil God graag) ...</td>\n",
       "      <td>16 juli 2023 10:00 tot 11:00</td>\n",
       "    </tr>\n",
       "    <tr>\n",
       "      <th>0</th>\n",
       "      <td>./data/244485.html</td>\n",
       "      <td>- Lied: Mijn Jezus, mijn redder (Juich voor de...</td>\n",
       "      <td>16 juli 2023 10:00 tot 11:00</td>\n",
       "    </tr>\n",
       "    <tr>\n",
       "      <th>0</th>\n",
       "      <td>./data/244485.html</td>\n",
       "      <td>- Slotlied: The Blessing - Cody Carnes, Kari Jobe</td>\n",
       "      <td>16 juli 2023 10:00 tot 11:00</td>\n",
       "    </tr>\n",
       "    <tr>\n",
       "      <th>...</th>\n",
       "      <td>...</td>\n",
       "      <td>...</td>\n",
       "      <td>...</td>\n",
       "    </tr>\n",
       "    <tr>\n",
       "      <th>58</th>\n",
       "      <td>./data/268180.html</td>\n",
       "      <td>- Lied: **Psalm 121: 4:5 - Een bod’ge van Zijn...</td>\n",
       "      <td>14 juli 2024 10:00 tot 11:00</td>\n",
       "    </tr>\n",
       "    <tr>\n",
       "      <th>58</th>\n",
       "      <td>./data/268180.html</td>\n",
       "      <td>- Lied: **Psalm 33: 7 en 9 - God’s oog rust op...</td>\n",
       "      <td>14 juli 2024 10:00 tot 11:00</td>\n",
       "    </tr>\n",
       "    <tr>\n",
       "      <th>58</th>\n",
       "      <td>./data/268180.html</td>\n",
       "      <td>- Lied: **Psalm 33: 10:11 - Hij kwam, Hij komt</td>\n",
       "      <td>14 juli 2024 10:00 tot 11:00</td>\n",
       "    </tr>\n",
       "    <tr>\n",
       "      <th>58</th>\n",
       "      <td>./data/268180.html</td>\n",
       "      <td>- Lied: **Psalm 84: 6: en 7 -’t Is naad’ren to...</td>\n",
       "      <td>14 juli 2024 10:00 tot 11:00</td>\n",
       "    </tr>\n",
       "    <tr>\n",
       "      <th>58</th>\n",
       "      <td>./data/268180.html</td>\n",
       "      <td>- Lied: **Psalm 84: 8 - Een dag is in Uwe voor...</td>\n",
       "      <td>14 juli 2024 10:00 tot 11:00</td>\n",
       "    </tr>\n",
       "  </tbody>\n",
       "</table>\n",
       "<p>302 rows × 3 columns</p>\n",
       "</div>"
      ],
      "text/plain": [
       "                  file                                           songs_ai  \\\n",
       "0   ./data/244485.html             - Lied: Dank u voor deze nieuwe morgen   \n",
       "0   ./data/244485.html  - Lied: Wij zijn als adem, U was er altijd - o...   \n",
       "0   ./data/244485.html  - Lied: Licht Aan (Deze dingen wil God graag) ...   \n",
       "0   ./data/244485.html  - Lied: Mijn Jezus, mijn redder (Juich voor de...   \n",
       "0   ./data/244485.html  - Slotlied: The Blessing - Cody Carnes, Kari Jobe   \n",
       "..                 ...                                                ...   \n",
       "58  ./data/268180.html  - Lied: **Psalm 121: 4:5 - Een bod’ge van Zijn...   \n",
       "58  ./data/268180.html  - Lied: **Psalm 33: 7 en 9 - God’s oog rust op...   \n",
       "58  ./data/268180.html     - Lied: **Psalm 33: 10:11 - Hij kwam, Hij komt   \n",
       "58  ./data/268180.html  - Lied: **Psalm 84: 6: en 7 -’t Is naad’ren to...   \n",
       "58  ./data/268180.html  - Lied: **Psalm 84: 8 - Een dag is in Uwe voor...   \n",
       "\n",
       "                            date  \n",
       "0   16 juli 2023 10:00 tot 11:00  \n",
       "0   16 juli 2023 10:00 tot 11:00  \n",
       "0   16 juli 2023 10:00 tot 11:00  \n",
       "0   16 juli 2023 10:00 tot 11:00  \n",
       "0   16 juli 2023 10:00 tot 11:00  \n",
       "..                           ...  \n",
       "58  14 juli 2024 10:00 tot 11:00  \n",
       "58  14 juli 2024 10:00 tot 11:00  \n",
       "58  14 juli 2024 10:00 tot 11:00  \n",
       "58  14 juli 2024 10:00 tot 11:00  \n",
       "58  14 juli 2024 10:00 tot 11:00  \n",
       "\n",
       "[302 rows x 3 columns]"
      ]
     },
     "execution_count": 33,
     "metadata": {},
     "output_type": "execute_result"
    }
   ],
   "source": [
    "exploded = combined.copy()\n",
    "exploded[\"songs_ai\"] = exploded.apply(lambda row: row[\"songs_ai\"].split(\"\\n\"), axis=1)\n",
    "exploded = exploded.explode(\"songs_ai\")\n",
    "exploded = exploded[[\"file\", \"songs_ai\", \"date\"]]\n",
    "exploded"
   ]
  },
  {
   "cell_type": "code",
   "execution_count": 34,
   "id": "1ca88047-5e5e-4fec-9726-fc1f0d3e527e",
   "metadata": {},
   "outputs": [],
   "source": [
    "combined.to_excel(\"zangdiensten.xlsx\")"
   ]
  },
  {
   "cell_type": "code",
   "execution_count": 35,
   "id": "cc0a452b-4835-4e1b-b4ff-e337e70088ef",
   "metadata": {},
   "outputs": [],
   "source": [
    "exploded.to_excel(\"liedjes.xlsx\")"
   ]
  },
  {
   "cell_type": "code",
   "execution_count": null,
   "id": "f076a78d-e794-4719-a72a-43de764db400",
   "metadata": {},
   "outputs": [],
   "source": []
  }
 ],
 "metadata": {
  "kernelspec": {
   "display_name": "liturgie",
   "language": "python",
   "name": "liturgie"
  },
  "language_info": {
   "codemirror_mode": {
    "name": "ipython",
    "version": 3
   },
   "file_extension": ".py",
   "mimetype": "text/x-python",
   "name": "python",
   "nbconvert_exporter": "python",
   "pygments_lexer": "ipython3",
   "version": "3.10.14"
  }
 },
 "nbformat": 4,
 "nbformat_minor": 5
}
